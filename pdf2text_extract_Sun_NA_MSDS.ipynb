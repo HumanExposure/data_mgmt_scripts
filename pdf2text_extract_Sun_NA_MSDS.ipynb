{
 "cells": [
  {
   "cell_type": "code",
   "execution_count": 9,
   "metadata": {
    "collapsed": true
   },
   "outputs": [],
   "source": [
    "import os     ## Allows operating system commands to be performed though Python\n",
    "import sys    ## Allows you to exit a Python script for testing\n",
    "import  glob  ## Global searching of strings as files\n",
    "import shutil ## Allows movement of files from one directory to another\n",
    "import string ## Fancy string manipulations\n",
    "import  glob  ## Global searching of strings as files\n",
    "import pandas as pd"
   ]
  },
  {
   "cell_type": "code",
   "execution_count": 12,
   "metadata": {
    "collapsed": true
   },
   "outputs": [],
   "source": [
    "#change directory to folder with downloaded pdf's\n",
    "os.chdir('C:\\\\Users\\\\akomandu\\\\Python_Portfolio\\\\PDF_Scrapes\\\\Sun\\\\North_American_MSDS')"
   ]
  },
  {
   "cell_type": "code",
   "execution_count": 13,
   "metadata": {
    "collapsed": true
   },
   "outputs": [],
   "source": [
    "pwd=os.getcwd()"
   ]
  },
  {
   "cell_type": "code",
   "execution_count": 14,
   "metadata": {
    "collapsed": true
   },
   "outputs": [],
   "source": [
    "#set exec path to folder with pdf-to-text application\n",
    "execpath = 'C:\\\\Users\\\\akomandu\\\\PDF_Scrapes\\\\xpdfbin-win-3.04\\\\bin64\\\\'"
   ]
  },
  {
   "cell_type": "code",
   "execution_count": 15,
   "metadata": {
    "collapsed": true
   },
   "outputs": [],
   "source": [
    "#set names of applications \n",
    "htmlexec = \"pdftohtml.exe\"\n",
    "txtexec = 'pdftotext.exe'"
   ]
  },
  {
   "cell_type": "code",
   "execution_count": 50,
   "metadata": {
    "collapsed": true
   },
   "outputs": [],
   "source": [
    "#set files to convert\n",
    "files = glob.glob('C:\\\\Users\\\\akomandu\\\\Python_Portfolio\\\\PDF_Scrapes\\\\Sun\\\\North_American_MSDS\\\\*.pdf')"
   ]
  },
  {
   "cell_type": "code",
   "execution_count": 51,
   "metadata": {},
   "outputs": [],
   "source": [
    "#convert pdf files to text files\n",
    "for f in files:\n",
    "    filename = os.path.join(\"C:\\\\Users\\\\akomandu\\\\Python_Portfolio\\\\PDF_Scrapes\\\\Sun\\\\North_American_MSDS\", os.path.basename(f))\n",
    "    dirname = os.path.basename(f)[:-4]\n",
    "    \n",
    "    txtcmd = os.path.join(execpath,txtexec)\n",
    "\n",
    "    txtcmd = \" \".join([txtcmd,\"-table\",\"-nopgbrk\",f])\n",
    "\n",
    "#     print(os.path.isfile(filename))\n",
    "#    print(\" \".join([txtcmd, filename]))\n",
    "    \n",
    "#     print(txtcmd)\n",
    "    #print(os.path.isfile(os.path.join(\"C:\\\\Users\\\\akomandu\\\\PDF Scrapes\\\\Georgia Pacific MSDS\",os.path.basename(filename))))\n",
    "#     print(dirname)\n",
    "\n",
    "    os.system(txtcmd)\n",
    "#    os.system(\" \".join([txtcmd, filename]))\n",
    "    #textpath = os.path.join(pwd,\"PDF Scrapes\",\"Georgia Pacific MSDS\", dirname  + \" .txt \")\n",
    "    \n",
    "    #if (os.path.isfile(textpath)):\n",
    "        #shutil.move(textpath,os.path.join(pwd,\"text\",dirname +\".txt\"))\n",
    "    #else:\n",
    "        ## Throw an error if the path doesn't exist\n",
    "        #sys.exit(\"Path Not Found\")\n"
   ]
  },
  {
   "cell_type": "code",
   "execution_count": 52,
   "metadata": {
    "collapsed": true
   },
   "outputs": [],
   "source": [
    "#create function for cleaning lines\n",
    "clean = lambda dirty: ''.join(filter(string.printable.__contains__, dirty))"
   ]
  },
  {
   "cell_type": "code",
   "execution_count": 53,
   "metadata": {},
   "outputs": [],
   "source": [
    "#find all text files\n",
    "#set path to text files\n",
    "pwd = ['C:\\\\Users\\\\akomandu\\\\Python_Portfolio\\\\PDF_Scrapes\\\\Sun\\\\North_American_MSDS']\n",
    "os.chdir(\"\".join(pwd))\n",
    "pwd = os.getcwd()"
   ]
  },
  {
   "cell_type": "code",
   "execution_count": 54,
   "metadata": {
    "collapsed": true
   },
   "outputs": [],
   "source": [
    "#find all text files\n",
    "text_files = glob.glob('*.txt')"
   ]
  },
  {
   "cell_type": "code",
   "execution_count": 60,
   "metadata": {},
   "outputs": [],
   "source": [
    "#create lists for pertinent information in each text file\n",
    "Product_Generic_Name = []\n",
    "Chemical_Name = []\n",
    "CAS_Number = []\n",
    "Percentage = []\n",
    "Product_Label_Name = []\n",
    "UPC_Code = []\n",
    "Product_Code = []\n",
    "File = []\n",
    "\n",
    "#iterate through each text file to clean lines and append relevant information to lists\n",
    "for file in text_files:\n",
    "    \n",
    "    ifile= open(file)\n",
    "    for line in ifile:\n",
    "        if line == '/n': continue\n",
    "        cline = clean(line)\n",
    "        cline = cline.lower()\n",
    "        cline = cline.replace(',','_')\n",
    "        cline = cline.replace(';','_')\n",
    "        cline = cline.strip()\n",
    "\n",
    "        tline = \"\".join(cline.split())\n",
    "        tline = \"\".join(cline.split())\n",
    "        cline = cline.split(\"  \")\n",
    "        cline = [x.strip() for x in cline if x != \"\"]\n",
    "\n",
    "        if 'upc code(s)' in cline:\n",
    "            upc_coded = (cline[1:])\n",
    "            upc_code = ''.join(upc_coded)\n",
    "        elif 'upc code(s)' in cline:\n",
    "            code = (cline[-1])\n",
    "        elif 'product code' in cline:\n",
    "            pcode = cline[-1]\n",
    "        elif 'product label name' in cline:\n",
    "            label_named = (cline[1:])\n",
    "            label_name = ''.join(label_named)\n",
    "            \n",
    "        elif 'product generic name' in cline:\n",
    "            name = (cline[-1])\n",
    "\n",
    "        elif 'cas-no' in cline:\n",
    "            for line in ifile:\n",
    "                dline = clean(line)\n",
    "                dline = dline.lower()\n",
    "                dline = dline.replace(',','_')\n",
    "                dline = dline.replace(';','_')\n",
    "                dline = dline.strip()\n",
    "                dline  = dline.split(\"  \")\n",
    "                dline = [x.strip() for x in dline if x != \"\"]\n",
    "\n",
    "                list1 = []\n",
    "                list1.append(dline)\n",
    "                list2 = []\n",
    "                list2 = [x for x in list1 if x != []]\n",
    "\n",
    "                if 'trade secret' in str(line).lower():\n",
    "                    break\n",
    "                if 'consumer household use' in str(line).lower():\n",
    "                    break\n",
    "                if 'first aid measures' in str(line).lower():\n",
    "                    break\n",
    "\n",
    "                for i in list2:\n",
    "                    try:\n",
    "                        File.append(file)\n",
    "                        Product_Generic_Name.append(name)\n",
    "                    except IndexError:\n",
    "                        File.append(' ')\n",
    "                        Product_Generic_Name.append(' ')\n",
    "                    try:\n",
    "                        UPC_Code.append(upc_code)\n",
    "                    except IndexError:\n",
    "                        UPC_Code.append(' ')\n",
    "                    try:\n",
    "                        Product_Code.append(pcode)\n",
    "                    except IndexError:\n",
    "                        Product_Code.append('')\n",
    "                    try:\n",
    "                        Product_Label_Name.append(label_name)\n",
    "                    except:\n",
    "                        Product_Label_Name.append(' ')\n",
    "                    try:\n",
    "                        Chemical_Name.append(i[0])\n",
    "                    except IndexError:\n",
    "                        Chemical_Name.append(' ')\n",
    "                    try:\n",
    "                        CAS_Number.append(i[1])\n",
    "                    except IndexError:\n",
    "                        CAS_Number.append(' ')\n",
    "                    try :\n",
    "                        Percentage.append(i[2])\n",
    "                    except IndexError:\n",
    "                        Percentage.append(' ')\n",
    "                    finally:\n",
    "                        pcode = ''\n",
    "\n",
    "                "
   ]
  },
  {
   "cell_type": "code",
   "execution_count": 61,
   "metadata": {
    "collapsed": true
   },
   "outputs": [],
   "source": [
    "scraped = pd.DataFrame({\"File\":File, 'Product_Generic_Name': Product_Generic_Name, 'Product_Label_Name': Product_Label_Name, 'UPC_Code': UPC_Code, 'Product_Code': Product_Code, 'Chemical Name': Chemical_Name, 'CAS_Number': CAS_Number, 'Percentage': Percentage})\n",
    "great = scraped.drop_duplicates(keep='first')"
   ]
  },
  {
   "cell_type": "code",
   "execution_count": 71,
   "metadata": {},
   "outputs": [],
   "source": [
    "final = great[4:]"
   ]
  },
  {
   "cell_type": "code",
   "execution_count": 72,
   "metadata": {},
   "outputs": [],
   "source": [
    "#create function to export dataframe to excel file\n",
    "def checkfile(file_name):\n",
    "    \"\"\"\n",
    "    Usage:\n",
    "    ------\n",
    "    checkfile(file_name)\n",
    "\n",
    "    Description:\n",
    "    ------------\n",
    "    Function to check if a file name exists in the current working\n",
    "    directory and rename the new file, rather than overwrite the old file\n",
    "    with new data.\n",
    "\n",
    "    Parameters:\n",
    "    -----------\n",
    "    file_name : string, database name tag in .my.cnf file (default=None)\n",
    "    out       : string, a unique file name based on the provided file_name;\n",
    "                uniqueness is insured by incrementing a number appended to the\n",
    "                file by 1\n",
    "    \"\"\"\n",
    "    cwd = os.getcwd()\n",
    "    cwf = os.path.join(cwd,file_name)\n",
    "    if not os.path.exists(cwf):\n",
    "        return cwf\n",
    "    root, ext = os.path.splitext(os.path.expanduser(cwf))\n",
    "    dir = os.path.dirname(root)\n",
    "    fname = os.path.basename(root)\n",
    "    candidate = fname+ext\n",
    "    index = 1\n",
    "    ls = set(os.listdir(dir))\n",
    "    while candidate in ls:\n",
    "        candidate = \"{}_{}{}\".format(fname,index,ext)\n",
    "        index += 1\n",
    "    return os.path.join(dir,candidate)\n",
    "\n",
    "def to_excel(df,xlfile,sheet_name='Sheet 1',cas_col='casrn',index=False,filecheck=False,encoding=None):\n",
    "    \"\"\"\n",
    "    Usage:\n",
    "    ------\n",
    "    to_excel(df,xlfile)\n",
    "\n",
    "    Description:\n",
    "    ------------\n",
    "    Writes Pandas dataframe to MS Excel file. This differs from Pandas' own\n",
    "    to_excel function in that it will find the 'casrn' column and write it to\n",
    "    the file as a string instead of a number, thus preventing some CASRNs to be\n",
    "    autoformatted to strings.\n",
    "\n",
    "    Parameters:\n",
    "    -----------\n",
    "    df              pandas.DataFrame, object to write to an MS Excel file\n",
    "    xlfile          string, name of MS Excel file to generate\n",
    "    sheet_name      string, name of MS Excel sheet the dataframe will be written to\n",
    "    cas_col         string, name of the column in the dataframe containing CASRNs (default:'casrn')\n",
    "    index           boolean, default True write row names (index)\n",
    "    checkfile       check if a file by the same name already exists in the path\n",
    "\n",
    "    \"\"\"\n",
    "    alphabet = \"abcdefghijklmnopqrstuvwxyz\"\n",
    "    if cas_col not in df.columns.tolist():\n",
    "        print(\"Error! 'casrn' column not in dataframe. Use Pandas' to_excel function.\")\n",
    "        return\n",
    "\n",
    "    cas_col = alphabet[df.columns.get_loc(cas_col)].upper()\n",
    "    if filecheck:\n",
    "        writer = pd.ExcelWriter(checkfile(xlfile),engine=\"xlsxwriter\")\n",
    "    else:\n",
    "        writer = pd.ExcelWriter(xlfile,engine=\"xlsxwriter\")\n",
    "    df.to_excel(writer,sheet_name=sheet_name,index=index,encoding=encoding)\n",
    "    workbook = writer.book\n",
    "    worksheet = writer.sheets[sheet_name]\n",
    "    format1 = workbook.add_format({\"bold\":False,\"font_color\":\"black\"})\n",
    "    worksheet.set_column(cas_col+':'+cas_col,12,format1)\n",
    "    writer.save()\n",
    "    return\n"
   ]
  },
  {
   "cell_type": "code",
   "execution_count": 73,
   "metadata": {},
   "outputs": [],
   "source": [
    "#had to manually delete entries in excel file\n",
    "to_excel(df = final, xlfile= 'Sun_NA_MSDS_07232018.xlsx', cas_col = 'CAS_Number')"
   ]
  },
  {
   "cell_type": "code",
   "execution_count": null,
   "metadata": {},
   "outputs": [],
   "source": []
  }
 ],
 "metadata": {
  "kernelspec": {
   "display_name": "Python 3",
   "language": "python",
   "name": "python3"
  },
  "language_info": {
   "codemirror_mode": {
    "name": "ipython",
    "version": 3
   },
   "file_extension": ".py",
   "mimetype": "text/x-python",
   "name": "python",
   "nbconvert_exporter": "python",
   "pygments_lexer": "ipython3",
   "version": "3.6.1"
  }
 },
 "nbformat": 4,
 "nbformat_minor": 2
}
