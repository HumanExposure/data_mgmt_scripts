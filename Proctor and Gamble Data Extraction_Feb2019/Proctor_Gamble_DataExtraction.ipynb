{
 "cells": [
  {
   "cell_type": "markdown",
   "metadata": {},
   "source": [
    "# Convert PDF Files to Text"
   ]
  },
  {
   "cell_type": "code",
   "execution_count": 10,
   "metadata": {},
   "outputs": [],
   "source": [
    "import os,string,csv\n",
    "import pandas as pd\n",
    "import glob"
   ]
  },
  {
   "cell_type": "code",
   "execution_count": 14,
   "metadata": {},
   "outputs": [],
   "source": [
    "#set exec path to folder with pdf-to-text application\n",
    "execpath = 'C:\\\\Users\\\\akomandu\\\\PDF_Scrapes\\\\xpdfbin-win-3.04\\\\bin64\\\\'\n",
    "\n",
    "#set names of applications \n",
    "txtexec = 'pdftotext.exe'"
   ]
  },
  {
   "cell_type": "code",
   "execution_count": 7,
   "metadata": {},
   "outputs": [],
   "source": [
    "os.chdir('C:\\\\Users\\\\akomandu\\\\Python_Portfolio\\\\PDF_Scrapes\\\\Proctor_and_Gamble')"
   ]
  },
  {
   "cell_type": "code",
   "execution_count": 11,
   "metadata": {},
   "outputs": [],
   "source": [
    "#set files to convert\n",
    "files = glob.glob('C:\\\\Users\\\\akomandu\\\\Python_Portfolio\\\\PDF_Scrapes\\\\Proctor_and_Gamble\\\\*.pdf')"
   ]
  },
  {
   "cell_type": "code",
   "execution_count": 26,
   "metadata": {},
   "outputs": [],
   "source": [
    "def pdf_to_text(files):\n",
    "    \"\"\"\n",
    "    Converts pdf files into text files\n",
    "    \"\"\"\n",
    "    #set exec path to folder with pdf-to-text application\n",
    "    execpath = 'C:\\\\Users\\\\akomandu\\\\xpdf-tools-win-4.00\\\\xpdf-tools-win-4.00\\\\bin64'\n",
    "\n",
    "    #set names of applications \n",
    "    txtexec = 'pdftotext.exe'    \n",
    "    \n",
    "    for file in files:\n",
    "        pdf = '\"'+file+'\"'\n",
    "        cmd = os.path.join(execpath,txtexec)\n",
    "        cmd = \" \".join([cmd,\"-nopgbrk\",\"-table\",pdf])\n",
    "        os.system(cmd)\n",
    "    return"
   ]
  },
  {
   "cell_type": "code",
   "execution_count": null,
   "metadata": {},
   "outputs": [],
   "source": [
    "pdf_to_text(files)"
   ]
  },
  {
   "cell_type": "markdown",
   "metadata": {},
   "source": [
    "# Data Extraction"
   ]
  },
  {
   "cell_type": "code",
   "execution_count": 29,
   "metadata": {},
   "outputs": [],
   "source": [
    "import pandas as pd\n",
    "import string"
   ]
  },
  {
   "cell_type": "code",
   "execution_count": 34,
   "metadata": {},
   "outputs": [],
   "source": [
    "#create function for cleaning lines\n",
    "clean = lambda dirty: ''.join(filter(string.printable.__contains__, dirty))"
   ]
  },
  {
   "cell_type": "code",
   "execution_count": 30,
   "metadata": {},
   "outputs": [],
   "source": [
    "#find all text files\n",
    "files = glob.glob('*.txt')"
   ]
  },
  {
   "cell_type": "code",
   "execution_count": 151,
   "metadata": {},
   "outputs": [],
   "source": [
    "Revision = []\n",
    "Product = []\n",
    "Identifier = []\n",
    "Manufacturer = []\n",
    "Name = []\n",
    "Synonym = []\n",
    "Trade_Secret = []\n",
    "CAS = []\n",
    "Weight = []\n",
    "File = []\n",
    "for file in files:\n",
    "    placeholder = file\n",
    "    ifile = open(file)    \n",
    "    for line in ifile:\n",
    "        if line == '\\n': continue\n",
    "        cline = clean(line)\n",
    "        cline = cline.lower()\n",
    "        cline = cline.replace(',','_')\n",
    "        cline = cline.replace(';','_')\n",
    "        cline = cline.strip()\n",
    "\n",
    "        cline = cline.split(\"  \")\n",
    "        cline = [x.strip() for x in cline if x != \"\"]\n",
    "\n",
    "        if 'revision date:' in cline:\n",
    "            try:\n",
    "                revision = cline[3]\n",
    "            except:\n",
    "                revision = cline[-1]\n",
    "\n",
    "#        if 'revision date:' not in cline:\n",
    "#            revision = ''\n",
    "            \n",
    "        if 'product name' in cline:\n",
    "            #Product.append(cline[-1])\n",
    "            product = cline[-1]\n",
    "            \n",
    "        if 'product identifier' in cline:\n",
    "            #Identifier.append(cline[-1])\n",
    "            identifier = cline[-1]            \n",
    "            \n",
    "        if 'product id:' in cline:\n",
    "            #Identifier.append(cline[-1])\n",
    "            identifier = cline[-1]\n",
    "            \n",
    "        if 'manufacturer' in cline:\n",
    "            #Manufacturer.append(cline[-1])\n",
    "            manufacturer = cline[-1]\n",
    "            \n",
    "        if 'details of the supplier' in cline:\n",
    "            #Manufacturer.append(cline[-2] + cline[-1])\n",
    "            manufacturer = cline[-2] + ' ' + cline[-1]\n",
    "\n",
    "        if 'weight %' in cline:\n",
    "            list10 = []\n",
    "            for line in ifile:\n",
    "                zline = clean(line)\n",
    "                zline = zline.lower()\n",
    "                zline = zline.replace(',','_')\n",
    "                zline = zline.replace(';','_')\n",
    "                zline = zline.strip()\n",
    "                zline  = zline.split(\"  \")\n",
    "                zline = [x.strip() for x in zline if x != \"\"]\n",
    "\n",
    "                list10.append(zline)\n",
    "                if '4. first aid measures' in str(line).lower():\n",
    "                    break\n",
    "                    \n",
    "            del list10[-1]\n",
    "        \n",
    "            for i in [x for x in list10 if x != []]:\n",
    "                try:\n",
    "                    Name.append(i[0])\n",
    "                except:\n",
    "                    Name.append('')\n",
    "\n",
    "                try:\n",
    "                    Synonym.apend(i[1])\n",
    "                except:\n",
    "                    Synonym.append('')\n",
    "\n",
    "                try:\n",
    "                    Trade_Secret.append(i[2])\n",
    "                except:\n",
    "                    Trade_Secret.append('')\n",
    "\n",
    "                try:\n",
    "                    CAS.append(i[3])\n",
    "                except:\n",
    "                    CAS.append('')\n",
    "\n",
    "                try:\n",
    "                    Weight.append(i[4])\n",
    "                except:\n",
    "                    Weight.append('')\n",
    "                    \n",
    "                Revision.append(revision)\n",
    "                Product.append(product)\n",
    "                Identifier.append(identifier)\n",
    "                Manufacturer.append(manufacturer)\n",
    "                File.append(placeholder)\n",
    "                \n",
    "        if '4. first aid measures' in cline:\n",
    "            break\n",
    "                    "
   ]
  },
  {
   "cell_type": "code",
   "execution_count": 152,
   "metadata": {},
   "outputs": [],
   "source": [
    "final = pd.DataFrame({\n",
    "    'File': File,\n",
    "    'Revision Date': Revision,\n",
    "    'Product' : Product,\n",
    "    'Product_ID' : Identifier,\n",
    "    'Manufacturer' : Manufacturer,\n",
    "    'Chemical_Name': Name,\n",
    "    'Synonym': Synonym,\n",
    "    'Trade Secret': Trade_Secret,\n",
    "    'CAS_Number': CAS,\n",
    "    'Weight Percentage': Weight\n",
    "})"
   ]
  },
  {
   "cell_type": "code",
   "execution_count": 154,
   "metadata": {},
   "outputs": [],
   "source": [
    "final.to_csv('Proctor_Gamble_Data.csv')"
   ]
  },
  {
   "cell_type": "code",
   "execution_count": null,
   "metadata": {},
   "outputs": [],
   "source": []
  },
  {
   "cell_type": "code",
   "execution_count": null,
   "metadata": {},
   "outputs": [],
   "source": []
  }
 ],
 "metadata": {
  "kernelspec": {
   "display_name": "Python 3",
   "language": "python",
   "name": "python3"
  },
  "language_info": {
   "codemirror_mode": {
    "name": "ipython",
    "version": 3
   },
   "file_extension": ".py",
   "mimetype": "text/x-python",
   "name": "python",
   "nbconvert_exporter": "python",
   "pygments_lexer": "ipython3",
   "version": "3.6.1"
  }
 },
 "nbformat": 4,
 "nbformat_minor": 2
}
