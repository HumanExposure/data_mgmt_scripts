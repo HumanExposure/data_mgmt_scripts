{
 "cells": [
  {
   "cell_type": "code",
   "execution_count": 3,
   "metadata": {
    "collapsed": true
   },
   "outputs": [],
   "source": [
    "import os     ## Allows operating system commands to be performed though Python\n",
    "import sys    ## Allows you to exit a Python script for testing\n",
    "import shutil ## Allows movement of files from one directory to another\n",
    "import  glob  ## Global searching of strings as files\n",
    "import string ## Fancy string manipulations\n",
    "import pandas as pd"
   ]
  },
  {
   "cell_type": "code",
   "execution_count": 4,
   "metadata": {
    "collapsed": true
   },
   "outputs": [],
   "source": [
    "#change directory to folder with downloaded pdf's\n",
    "os.chdir('C:\\\\Users\\\\akomandu\\\\Python_Portfolio\\\\PDF_Scrapes\\\\Sun\\\\Ingredient_Disclosures')"
   ]
  },
  {
   "cell_type": "code",
   "execution_count": 5,
   "metadata": {
    "collapsed": true
   },
   "outputs": [],
   "source": [
    "pwd=os.getcwd()"
   ]
  },
  {
   "cell_type": "code",
   "execution_count": 6,
   "metadata": {
    "collapsed": true
   },
   "outputs": [],
   "source": [
    "#set exec path to folder with pdf-to-text application\n",
    "execpath = 'C:\\\\Users\\\\akomandu\\\\Python_Portfolio\\\\PDF_Scrapes\\\\xpdfbin-win-3.04\\\\bin64\\\\'"
   ]
  },
  {
   "cell_type": "code",
   "execution_count": 7,
   "metadata": {
    "collapsed": true
   },
   "outputs": [],
   "source": [
    "#set names of applications \n",
    "htmlexec = \"pdftohtml.exe\"\n",
    "txtexec = 'pdftotext.exe'"
   ]
  },
  {
   "cell_type": "code",
   "execution_count": 8,
   "metadata": {
    "collapsed": true
   },
   "outputs": [],
   "source": [
    "#set files to convert\n",
    "files = glob.glob('C:\\\\Users\\\\akomandu\\\\PDF_Scrapes\\\\Sun\\\\Ingredient_Disclosures\\\\*.pdf')"
   ]
  },
  {
   "cell_type": "code",
   "execution_count": 9,
   "metadata": {
    "collapsed": true
   },
   "outputs": [],
   "source": [
    "#convert pdf files to text files\n",
    "for f in files:\n",
    "    filename = os.path.join(\"C:\\\\Users\\\\akomandu\\\\PDF_Scrapes\\\\Sun\\\\Ingredient_Disclosures\", os.path.basename(f))\n",
    "    dirname = os.path.basename(f)[:-4]\n",
    "    \n",
    "    txtcmd = os.path.join(execpath,txtexec)\n",
    "\n",
    "    txtcmd = \" \".join([txtcmd,\"-table\",\"-nopgbrk\",f])\n",
    "\n",
    "#     print(os.path.isfile(filename))\n",
    "#    print(\" \".join([txtcmd, filename]))\n",
    "    \n",
    "#     print(txtcmd)\n",
    "    #print(os.path.isfile(os.path.join(\"C:\\\\Users\\\\akomandu\\\\PDF Scrapes\\\\Georgia Pacific MSDS\",os.path.basename(filename))))\n",
    "#     print(dirname)\n",
    "\n",
    "    os.system(txtcmd)\n",
    "#    os.system(\" \".join([txtcmd, filename]))\n",
    "    #textpath = os.path.join(pwd,\"PDF Scrapes\",\"Georgia Pacific MSDS\", dirname  + \" .txt \")\n",
    "    \n",
    "    #if (os.path.isfile(textpath)):\n",
    "        #shutil.move(textpath,os.path.join(pwd,\"text\",dirname +\".txt\"))\n",
    "    #else:\n",
    "        ## Throw an error if the path doesn't exist\n",
    "        #sys.exit(\"Path Not Found\")\n"
   ]
  },
  {
   "cell_type": "markdown",
   "metadata": {},
   "source": [
    "## Data Extraction"
   ]
  },
  {
   "cell_type": "code",
   "execution_count": 10,
   "metadata": {
    "collapsed": true
   },
   "outputs": [],
   "source": [
    "#create function for cleaning lines\n",
    "clean = lambda dirty: ''.join(filter(string.printable.__contains__, dirty))"
   ]
  },
  {
   "cell_type": "code",
   "execution_count": 12,
   "metadata": {
    "collapsed": true
   },
   "outputs": [],
   "source": [
    "#set path to text files\n",
    "pwd = ['C:\\\\Users\\\\akomandu\\\\Python_Portfolio\\\\PDF_Scrapes\\\\Sun\\\\Ingredient_Disclosures']\n",
    "os.chdir(\"\".join(pwd))\n",
    "pwd = os.getcwd()"
   ]
  },
  {
   "cell_type": "code",
   "execution_count": 13,
   "metadata": {
    "collapsed": true
   },
   "outputs": [],
   "source": [
    "#find all text files\n",
    "text_files = glob.glob('*.txt')"
   ]
  },
  {
   "cell_type": "code",
   "execution_count": 102,
   "metadata": {},
   "outputs": [],
   "source": [
    "from itertools import islice\n",
    "import re"
   ]
  },
  {
   "cell_type": "code",
   "execution_count": 148,
   "metadata": {},
   "outputs": [],
   "source": [
    "Product = []\n",
    "Code = []\n",
    "Ingredient = []\n",
    "Function = []\n",
    "File = []\n",
    "for file in text_files:\n",
    "    with open(file) as ifile:\n",
    "        List1 = []\n",
    "        List2 = []\n",
    "        for line in ifile:\n",
    "            cline = clean(line)\n",
    "            cline = cline.lower()\n",
    "            cline = cline.replace(',','_')\n",
    "            cline = cline.replace(';','_')\n",
    "            cline = cline.strip()\n",
    "            cline = cline.split(\"  \")\n",
    "            cline = [x.strip() for x in cline if x != \"\"]\n",
    "            if 'friday_ 8:30am to 6:00pm est)' in cline:\n",
    "                product = (list(islice(ifile,2))[1])\n",
    "                #product = product.replace('                                ', ' ')\n",
    "                product = re.sub(' +',' ',product)\n",
    "                product = product[:-1]\n",
    "            if 'upc code' in cline:\n",
    "                code = (list(islice(ifile,2))[1])\n",
    "                code = re.sub(' +',' ',code)\n",
    "                code = code[:-1]\n",
    "            if 'function' in cline:\n",
    "                for line in ifile:\n",
    "                    dline = clean(line)\n",
    "                    dline = dline.lower()\n",
    "                    dline = dline.replace(',','_')\n",
    "                    dline = dline.replace(';','_')\n",
    "                    dline = dline.strip()\n",
    "                    dline = dline.split(\"  \")\n",
    "                    dline = [x.strip() for x in dline if x != \"\"]\n",
    "                    if len(dline) > 1:\n",
    "                        List1.append(dline[0])\n",
    "                        List2.append(dline[1])\n",
    "                    else:\n",
    "                        pass\n",
    "                    if 'fragrance' in line:\n",
    "                        break\n",
    "        for i in List1:\n",
    "            Ingredient.append(i)\n",
    "            Product.append(product)\n",
    "            Code.append(code)\n",
    "            File.append(file)\n",
    "        for i in List2:\n",
    "            Function.append(i)"
   ]
  },
  {
   "cell_type": "code",
   "execution_count": 149,
   "metadata": {},
   "outputs": [],
   "source": [
    "data = pd.DataFrame({\n",
    "    'File':File,\n",
    "    'Product':Product,\n",
    "    'UPC_Code':Code,\n",
    "    'Ingredient':Ingredient,\n",
    "    'Function':Function\n",
    "})"
   ]
  },
  {
   "cell_type": "code",
   "execution_count": 151,
   "metadata": {},
   "outputs": [],
   "source": [
    "data.to_csv('Sun_INDS_07242018.csv')"
   ]
  },
  {
   "cell_type": "code",
   "execution_count": null,
   "metadata": {},
   "outputs": [],
   "source": []
  },
  {
   "cell_type": "code",
   "execution_count": null,
   "metadata": {
    "collapsed": true
   },
   "outputs": [],
   "source": []
  }
 ],
 "metadata": {
  "kernelspec": {
   "display_name": "Python 3",
   "language": "python",
   "name": "python3"
  },
  "language_info": {
   "codemirror_mode": {
    "name": "ipython",
    "version": 3
   },
   "file_extension": ".py",
   "mimetype": "text/x-python",
   "name": "python",
   "nbconvert_exporter": "python",
   "pygments_lexer": "ipython3",
   "version": "3.6.1"
  }
 },
 "nbformat": 4,
 "nbformat_minor": 2
}
