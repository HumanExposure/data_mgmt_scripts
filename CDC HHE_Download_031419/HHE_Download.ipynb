{
 "cells": [
  {
   "cell_type": "code",
   "execution_count": 1,
   "metadata": {
    "collapsed": true
   },
   "outputs": [],
   "source": [
    "# import libraries\n",
    "import requests\n",
    "from bs4 import BeautifulSoup\n",
    "from urllib.request import urlretrieve\n",
    "import pandas as pd"
   ]
  },
  {
   "cell_type": "code",
   "execution_count": 2,
   "metadata": {},
   "outputs": [],
   "source": [
    "# change directory\n",
    "import os\n",
    "os.chdir('1_30_19')"
   ]
  },
  {
   "cell_type": "code",
   "execution_count": 3,
   "metadata": {
    "collapsed": true
   },
   "outputs": [],
   "source": [
    "# create a list of links\n",
    "links = []\n",
    "for i in range(132):\n",
    "    links.append('https://www2a.cdc.gov/hhe/search.asp?sr=' + str(i) + '1&l=&i=&si=&h=&x=&ys=1990&ye=2018&t=#searchresults')"
   ]
  },
  {
   "cell_type": "code",
   "execution_count": null,
   "metadata": {},
   "outputs": [],
   "source": [
    "# parse links for download links and titles\n",
    "downloads=[]\n",
    "titles = []\n",
    "count = []\n",
    "for i in links:\n",
    "    count.append(i)\n",
    "    print(len(count)/len(links))\n",
    "    page = requests.get(i)\n",
    "    soup = BeautifulSoup(page.content, 'html.parser')\n",
    "    for p in soup.find_all('a'):\n",
    "        if '(Click to open report)' in p.get_text():\n",
    "            downloads.append(p.attrs['href'])\n",
    "            titles.append(p.get_text())"
   ]
  },
  {
   "cell_type": "code",
   "execution_count": 6,
   "metadata": {},
   "outputs": [
    {
     "data": {
      "text/html": [
       "<div>\n",
       "<style scoped>\n",
       "    .dataframe tbody tr th:only-of-type {\n",
       "        vertical-align: middle;\n",
       "    }\n",
       "\n",
       "    .dataframe tbody tr th {\n",
       "        vertical-align: top;\n",
       "    }\n",
       "\n",
       "    .dataframe thead th {\n",
       "        text-align: right;\n",
       "    }\n",
       "</style>\n",
       "<table border=\"1\" class=\"dataframe\">\n",
       "  <thead>\n",
       "    <tr style=\"text-align: right;\">\n",
       "      <th></th>\n",
       "      <th>Link</th>\n",
       "      <th>Title</th>\n",
       "    </tr>\n",
       "  </thead>\n",
       "  <tbody>\n",
       "    <tr>\n",
       "      <th>0</th>\n",
       "      <td>https://www.cdc.gov/niosh/hhe/reports/pdfs/2016-0090-3317.pdf</td>\n",
       "      <td>(2018) A medicinal cannabis manufacturing facility with an indoor and outdoor grow operation.   (Click to open report)</td>\n",
       "    </tr>\n",
       "    <tr>\n",
       "      <th>2</th>\n",
       "      <td>https://www.cdc.gov/niosh/hhe/reports/pdfs/2018-0132-3322.pdf</td>\n",
       "      <td>(2018) A New Hampshire law enforcement officer's unintentional occupational exposure to illicit drugs.   (Click to open report)</td>\n",
       "    </tr>\n",
       "    <tr>\n",
       "      <th>4</th>\n",
       "      <td>https://www.cdc.gov/niosh/hhe/reports/pdfs/2014-0052-3320.pdf</td>\n",
       "      <td>(2018) A thermal drying process at a wastewater treatment plant.   (Click to open report)</td>\n",
       "    </tr>\n",
       "    <tr>\n",
       "      <th>6</th>\n",
       "      <td>https://www.cdc.gov/niosh/hhe/reports/pdfs/2017-0006-3319.pdf</td>\n",
       "      <td>(2018) Characterizing exposures during laser tattoo removal in a hospital dermatology center.   (Click to open report)</td>\n",
       "    </tr>\n",
       "    <tr>\n",
       "      <th>8</th>\n",
       "      <td>https://www.cdc.gov/niosh/hhe/reports/pdfs/2016-0120-3307.pdf</td>\n",
       "      <td>(2018) Chemical exposures at two vape shops in Texas.   (Click to open report)</td>\n",
       "    </tr>\n",
       "  </tbody>\n",
       "</table>\n",
       "</div>"
      ],
      "text/plain": [
       "                                                            Link  \\\n",
       "0  https://www.cdc.gov/niosh/hhe/reports/pdfs/2016-0090-3317.pdf   \n",
       "2  https://www.cdc.gov/niosh/hhe/reports/pdfs/2018-0132-3322.pdf   \n",
       "4  https://www.cdc.gov/niosh/hhe/reports/pdfs/2014-0052-3320.pdf   \n",
       "6  https://www.cdc.gov/niosh/hhe/reports/pdfs/2017-0006-3319.pdf   \n",
       "8  https://www.cdc.gov/niosh/hhe/reports/pdfs/2016-0120-3307.pdf   \n",
       "\n",
       "                                                                                                                             Title  \n",
       "0  (2018) A medicinal cannabis manufacturing facility with an indoor and outdoor grow operation.   (Click to open report)           \n",
       "2  (2018) A New Hampshire law enforcement officer's unintentional occupational exposure to illicit drugs.   (Click to open report)  \n",
       "4  (2018) A thermal drying process at a wastewater treatment plant.   (Click to open report)                                        \n",
       "6  (2018) Characterizing exposures during laser tattoo removal in a hospital dermatology center.   (Click to open report)           \n",
       "8  (2018) Chemical exposures at two vape shops in Texas.   (Click to open report)                                                   "
      ]
     },
     "execution_count": 6,
     "metadata": {},
     "output_type": "execute_result"
    }
   ],
   "source": [
    "pd.set_option('display.max_colwidth', -1)\n",
    "okay = pd.DataFrame({'Link' : downloads, 'Title': titles})\n",
    "okay = okay.drop_duplicates(subset='Link')\n",
    "okay.head()"
   ]
  },
  {
   "cell_type": "code",
   "execution_count": 7,
   "metadata": {},
   "outputs": [],
   "source": [
    "# create list of download links\n",
    "okay['Title and Year'] = okay['Title'].map(lambda x: x[:-26])\n",
    "final = okay['Link']"
   ]
  },
  {
   "cell_type": "code",
   "execution_count": null,
   "metadata": {},
   "outputs": [],
   "source": [
    "# download from link list\n",
    "for i in range(len(final)):\n",
    "    urlretrieve(final[i], filename=\"HHE_\" + str(i) + '.pdf')"
   ]
  }
 ],
 "metadata": {
  "kernelspec": {
   "display_name": "Python 3",
   "language": "python",
   "name": "python3"
  },
  "language_info": {
   "codemirror_mode": {
    "name": "ipython",
    "version": 3
   },
   "file_extension": ".py",
   "mimetype": "text/x-python",
   "name": "python",
   "nbconvert_exporter": "python",
   "pygments_lexer": "ipython3",
   "version": "3.6.1"
  }
 },
 "nbformat": 4,
 "nbformat_minor": 2
}
