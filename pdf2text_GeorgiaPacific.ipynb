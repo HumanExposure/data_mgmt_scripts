{
 "cells": [
  {
   "cell_type": "code",
   "execution_count": 1,
   "metadata": {
    "collapsed": true
   },
   "outputs": [],
   "source": [
    "import os     ## Allows operating system commands to be performed though Python\n",
    "import sys    ## Allows you to exit a Python script for testing\n",
    "import shutil ## Allows movement of files from one directory to another\n",
    "import  glob  ## Global searching of strings as files"
   ]
  },
  {
   "cell_type": "code",
   "execution_count": 2,
   "metadata": {
    "collapsed": true
   },
   "outputs": [],
   "source": [
    "#change directory to folder with donwloaded pdf's\n",
    "os.chdir('C:\\\\Users\\\\akomandu\\\\PDF_Scrapes\\\\Georgia_Pacific_MSDS')"
   ]
  },
  {
   "cell_type": "code",
   "execution_count": 3,
   "metadata": {
    "collapsed": true
   },
   "outputs": [],
   "source": [
    "pwd=os.getcwd()"
   ]
  },
  {
   "cell_type": "code",
   "execution_count": 4,
   "metadata": {
    "collapsed": true
   },
   "outputs": [],
   "source": [
    "#set exec path to folder with pdf-to-text application\n",
    "execpath = 'C:\\\\Users\\\\akomandu\\\\PDF_Scrapes\\\\xpdfbin-win-3.04\\\\bin64\\\\'"
   ]
  },
  {
   "cell_type": "code",
   "execution_count": 5,
   "metadata": {
    "collapsed": true
   },
   "outputs": [],
   "source": [
    "#set names of applications \n",
    "htmlexec = \"pdftohtml.exe\"\n",
    "txtexec = 'pdftotext.exe'"
   ]
  },
  {
   "cell_type": "code",
   "execution_count": 6,
   "metadata": {
    "collapsed": true
   },
   "outputs": [],
   "source": [
    "#set files to convert\n",
    "files = glob.glob('C:\\\\Users\\\\akomandu\\\\PDF_Scrapes\\\\Georgia_Pacific_MSDS\\\\*.pdf')"
   ]
  },
  {
   "cell_type": "code",
   "execution_count": 10,
   "metadata": {},
   "outputs": [],
   "source": [
    "#convert pdf files to text files\n",
    "for f in files:\n",
    "    filename = os.path.join(\"C:\\\\Users\\\\akomandu\\\\PDF_Scrapes\\\\Georgia_Pacific_MSDS\", os.path.basename(f))\n",
    "    dirname = os.path.basename(f)[:-4]\n",
    "    \n",
    "    txtcmd = os.path.join(execpath,txtexec)\n",
    "\n",
    "    txtcmd = \" \".join([txtcmd,\"-table\",\"-nopgbrk\",f])\n",
    "\n",
    "#     print(os.path.isfile(filename))\n",
    "#    print(\" \".join([txtcmd, filename]))\n",
    "    \n",
    "#     print(txtcmd)\n",
    "    #print(os.path.isfile(os.path.join(\"C:\\\\Users\\\\akomandu\\\\PDF Scrapes\\\\Georgia Pacific MSDS\",os.path.basename(filename))))\n",
    "#     print(dirname)\n",
    "\n",
    "    os.system(txtcmd)\n",
    "#    os.system(\" \".join([txtcmd, filename]))\n",
    "    #textpath = os.path.join(pwd,\"PDF Scrapes\",\"Georgia Pacific MSDS\", dirname  + \" .txt \")\n",
    "    \n",
    "    #if (os.path.isfile(textpath)):\n",
    "        #shutil.move(textpath,os.path.join(pwd,\"text\",dirname +\".txt\"))\n",
    "    #else:\n",
    "        ## Throw an error if the path doesn't exist\n",
    "        #sys.exit(\"Path Not Found\")\n",
    "\n"
   ]
  },
  {
   "cell_type": "code",
   "execution_count": null,
   "metadata": {
    "collapsed": true
   },
   "outputs": [],
   "source": []
  },
  {
   "cell_type": "code",
   "execution_count": null,
   "metadata": {
    "collapsed": true
   },
   "outputs": [],
   "source": []
  }
 ],
 "metadata": {
  "kernelspec": {
   "display_name": "Python 3",
   "language": "python",
   "name": "python3"
  },
  "language_info": {
   "codemirror_mode": {
    "name": "ipython",
    "version": 3
   },
   "file_extension": ".py",
   "mimetype": "text/x-python",
   "name": "python",
   "nbconvert_exporter": "python",
   "pygments_lexer": "ipython3",
   "version": "3.6.1"
  }
 },
 "nbformat": 4,
 "nbformat_minor": 2
}
