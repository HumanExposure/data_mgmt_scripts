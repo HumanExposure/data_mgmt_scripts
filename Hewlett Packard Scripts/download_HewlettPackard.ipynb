{
 "cells": [
  {
   "cell_type": "code",
   "execution_count": 1,
   "metadata": {
    "collapsed": true
   },
   "outputs": [],
   "source": [
    "#Import libraries\n",
    "import requests\n",
    "from bs4 import BeautifulSoup\n",
    "from urllib.request import urlretrieve"
   ]
  },
  {
   "cell_type": "code",
   "execution_count": 2,
   "metadata": {
    "collapsed": true
   },
   "outputs": [],
   "source": [
    "#Parse Hewlett Packard website to find different product categories that contained MSDS sheets\n",
    "ogpage = requests.get('http://www8.hp.com/us/en/hp-information/environment/msds-specs.html')\n",
    "ogsoup = BeautifulSoup(ogpage.content, 'html.parser')"
   ]
  },
  {
   "cell_type": "code",
   "execution_count": 3,
   "metadata": {},
   "outputs": [
    {
     "data": {
      "text/plain": [
       "13"
      ]
     },
     "execution_count": 3,
     "metadata": {},
     "output_type": "execute_result"
    }
   ],
   "source": [
    "#find different product categories that contained MSDS sheets and append them to a list\n",
    "hp_list=[]\n",
    "oglinks = ogsoup.find_all('a', attrs={'href':True})\n",
    "for i in range(len(oglinks)):\n",
    "    if 'target' in str(oglinks[i]):\n",
    "        if 'globalcitizenship' in oglinks[i].attrs['href']:\n",
    "                hp_list.append(oglinks[i].attrs['href'])\n",
    "len(hp_list)"
   ]
  },
  {
   "cell_type": "code",
   "execution_count": 4,
   "metadata": {},
   "outputs": [
    {
     "name": "stderr",
     "output_type": "stream",
     "text": [
      "Some characters could not be decoded, and were replaced with REPLACEMENT CHARACTER.\n",
      "Some characters could not be decoded, and were replaced with REPLACEMENT CHARACTER.\n",
      "Some characters could not be decoded, and were replaced with REPLACEMENT CHARACTER.\n"
     ]
    }
   ],
   "source": [
    "#Find links from previous list that contain pdf files and append them to a list\n",
    "link_list=[]\n",
    "for link in hp_list:\n",
    "    page = requests.get(link)\n",
    "    soup = BeautifulSoup(page.content, 'html.parser')\n",
    "    links = soup.find_all('a', attrs={'href':True})\n",
    "    for i in range(len(links)):\n",
    "        if 'Countries' in links[i].attrs['href']:\n",
    "            link_list.append('http://h22235.www2.hp.com/hpinfo/globalcitizenship/environment/productdata/' + links[i].attrs['href'])"
   ]
  },
  {
   "cell_type": "code",
   "execution_count": 5,
   "metadata": {
    "collapsed": true
   },
   "outputs": [],
   "source": [
    "#Find more links that contain pdf files and append them to a list\n",
    "env=[]\n",
    "env_list = 'http://www8.hp.com/us/en/hp-information/environment/psdslamps.html#.WX-Acojyvcs'\n",
    "env_page = requests.get(env_list)\n",
    "env_soup = BeautifulSoup(env_page.content, 'html.parser')\n",
    "env_links = env_soup.find_all('a', attrs={'href':True})\n",
    "for i in range(len(env_links)):\n",
    "    if 'globalcitizenship' in env_links[i].attrs['href']:\n",
    "        env.append(env_links[i].attrs['href'])"
   ]
  },
  {
   "cell_type": "code",
   "execution_count": 7,
   "metadata": {},
   "outputs": [
    {
     "data": {
      "text/plain": [
       "4049"
      ]
     },
     "execution_count": 7,
     "metadata": {},
     "output_type": "execute_result"
    }
   ],
   "source": [
    "#combine the two lists to create a single list that we can download from\n",
    "total = env + link_list\n",
    "len(total)"
   ]
  },
  {
   "cell_type": "code",
   "execution_count": 10,
   "metadata": {},
   "outputs": [],
   "source": [
    "#download pdf files\n",
    "for i in range(len(total)):\n",
    "        urlretrieve(total[i], filename=\"hp_\" + str(i) + '.pdf')"
   ]
  },
  {
   "cell_type": "code",
   "execution_count": null,
   "metadata": {},
   "outputs": [],
   "source": []
  },
  {
   "cell_type": "code",
   "execution_count": null,
   "metadata": {
    "collapsed": true
   },
   "outputs": [],
   "source": []
  }
 ],
 "metadata": {
  "kernelspec": {
   "display_name": "Python 3",
   "language": "python",
   "name": "python3"
  },
  "language_info": {
   "codemirror_mode": {
    "name": "ipython",
    "version": 3
   },
   "file_extension": ".py",
   "mimetype": "text/x-python",
   "name": "python",
   "nbconvert_exporter": "python",
   "pygments_lexer": "ipython3",
   "version": "3.6.1"
  }
 },
 "nbformat": 4,
 "nbformat_minor": 2
}
