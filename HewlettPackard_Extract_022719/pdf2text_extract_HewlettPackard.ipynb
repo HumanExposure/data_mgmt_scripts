{
 "cells": [
  {
   "cell_type": "code",
   "execution_count": 1,
   "metadata": {
    "collapsed": true
   },
   "outputs": [],
   "source": [
    "import os     ## Allows operating system commands to be performed though Python\n",
    "import sys    ## Allows you to exit a Python script for testing\n",
    "import shutil ## Allows movement of files from one directory to another\n",
    "import  glob  ## Global searching of strings as files"
   ]
  },
  {
   "cell_type": "code",
   "execution_count": 3,
   "metadata": {
    "collapsed": true
   },
   "outputs": [],
   "source": [
    "#change directory to folder with downloaded pdf's\n",
    "#os.chdir('C:\\\\Users\\\\akomandu\\\\PDF_Scrapes\\\\Hewlett_Packard_MSDS')\n",
    "os.chdir('C:\\\\Users\\\\akomandu\\\\Python Portfolio\\\\PDF_Scrapes\\\\CDC_HHE')"
   ]
  },
  {
   "cell_type": "code",
   "execution_count": 4,
   "metadata": {
    "collapsed": true
   },
   "outputs": [],
   "source": [
    "pwd=os.getcwd()"
   ]
  },
  {
   "cell_type": "code",
   "execution_count": 5,
   "metadata": {
    "collapsed": true
   },
   "outputs": [],
   "source": [
    "#set exec path to folder with pdf-to-text application\n",
    "#execpath = 'C:\\\\Users\\\\akomandu\\\\PDF_Scrapes\\\\xpdfbin-win-3.04\\\\bin64\\\\'\n",
    "execpath = 'C:\\\\Users\\\\akomandu\\\\Python Portfolio\\\\PDF_Scrapes\\\\xpdfbin-win-3.04\\\\bin64\\\\'"
   ]
  },
  {
   "cell_type": "code",
   "execution_count": 6,
   "metadata": {
    "collapsed": true
   },
   "outputs": [],
   "source": [
    "#set names of applications \n",
    "htmlexec = \"pdftohtml.exe\"\n",
    "txtexec = 'pdftotext.exe'"
   ]
  },
  {
   "cell_type": "code",
   "execution_count": 7,
   "metadata": {
    "collapsed": true
   },
   "outputs": [],
   "source": [
    "#set files to convert\n",
    "#files = glob.glob('C:\\\\Users\\\\akomandu\\\\PDF_Scrapes\\\\Hewlett_Packard_MSDS\\\\*.pdf')\n",
    "files = glob.glob('C:\\\\Users\\\\akomandu\\\\Python Portfolio\\\\PDF_Scrapes\\\\Hewlett_Packard_MSDS\\\\*.pdf')"
   ]
  },
  {
   "cell_type": "code",
   "execution_count": 9,
   "metadata": {},
   "outputs": [],
   "source": [
    "#convert pdf files to text files\n",
    "for f in files[0:2]:\n",
    "#    filename = os.path.join(\"C:\\\\Users\\\\akomandu\\\\PDF_Scrapes\\\\Hewlett_Packard_MSDS\", os.path.basename(f))\n",
    "    filename = os.path.join(\"C:\\\\Users\\\\akomandu\\\\\", os.path.basename(f))\n",
    "    dirname = os.path.basename(f)[:-4]\n",
    "    \n",
    "    txtcmd = os.path.join(execpath,txtexec)\n",
    "\n",
    "    txtcmd = \" \".join([txtcmd,\"-table\",\"-nopgbrk\",f])\n",
    "\n",
    "    os.system(txtcmd)\n"
   ]
  },
  {
   "cell_type": "markdown",
   "metadata": {},
   "source": [
    "## Data Extraction"
   ]
  },
  {
   "cell_type": "code",
   "execution_count": 48,
   "metadata": {
    "collapsed": true
   },
   "outputs": [],
   "source": [
    "import os     ## Allows operating system commands to be performed though Python\n",
    "import sys    ## Allows you to exit a Python script for testing\n",
    "import shutil ## Allows movement of files from one directory to another\n",
    "import string ## Fancy string manipulations\n",
    "import  glob  ## Global searching of strings as files\n",
    "import pandas as pd\n",
    "import string"
   ]
  },
  {
   "cell_type": "code",
   "execution_count": 49,
   "metadata": {
    "collapsed": true
   },
   "outputs": [],
   "source": [
    "#create function for cleaning lines\n",
    "clean = lambda dirty: ''.join(filter(string.printable.__contains__, dirty))"
   ]
  },
  {
   "cell_type": "code",
   "execution_count": 50,
   "metadata": {
    "collapsed": true
   },
   "outputs": [],
   "source": [
    "#set path to text files\n",
    "pwd = ['C:\\\\Users\\\\akomandu\\\\PDF_Scrapes\\\\Hewlett_Packard_text']\n",
    "os.chdir(\"\".join(pwd))\n",
    "pwd = os.getcwd()"
   ]
  },
  {
   "cell_type": "code",
   "execution_count": 51,
   "metadata": {
    "collapsed": true
   },
   "outputs": [],
   "source": [
    "#find all text files\n",
    "files = glob.glob('*.txt')"
   ]
  },
  {
   "cell_type": "code",
   "execution_count": null,
   "metadata": {},
   "outputs": [],
   "source": [
    "#create lists for pertinent information in each text file\n",
    "Product_Name = []\n",
    "Chemical_Name = []\n",
    "Manufacturer = []\n",
    "CAS_Number = []\n",
    "Percentage = []\n",
    "Files = []\n",
    "\n",
    "#iterate through each text file to clean lines and append relevant information to lists\n",
    "for file in files:\n",
    "    print(file)\n",
    "    \n",
    "    ifile = open(file)    \n",
    "    for line in ifile:\n",
    "        if line == '/n': continue\n",
    "        cline = clean(line)\n",
    "        cline = cline.lower()\n",
    "        cline = cline.replace(',','_')\n",
    "        cline = cline.replace(';','_')\n",
    "        cline = cline.strip()\n",
    "\n",
    "        cline = cline.split(\"  \")\n",
    "        cline = [x.strip() for x in cline if x != \"\"]\n",
    "#        print(cline)\n",
    "\n",
    "    #hp_2\n",
    "        if 'product name' in str(cline):\n",
    "            name=' / '.join(cline[1:])\n",
    "        if 'trade name' in str(cline):\n",
    "            name=' / '.join(cline[1:])\n",
    "        if 'product identifier' in str(cline):\n",
    "            name=' / '.join(cline[1:])\n",
    "\n",
    "        if 'cas number' in cline:\n",
    "            list1 = []\n",
    "            for line in ifile:\n",
    "                dline = clean(line)\n",
    "                dline = dline.lower()\n",
    "                dline = dline.replace(',','_')\n",
    "                dline = dline.replace(';','_')\n",
    "                dline = dline.strip()\n",
    "                dline  = dline.split(\"  \")\n",
    "                dline = [x.strip() for x in dline if x != \"\"]\n",
    "                list1.append(dline)\n",
    "\n",
    "                if 'subject' in str(line).lower():\n",
    "                    break\n",
    "                elif len(dline) == 1:\n",
    "                    break\n",
    "            list1 = list1[:-1]\n",
    "            list2 = [x for x in list1 if x != []]\n",
    "            \n",
    "            for j in list2:\n",
    "                if len(j) == 3:\n",
    "                    try: \n",
    "                        Product_Name.append(name)\n",
    "                    except:\n",
    "                        Product_Name.append(' ')\n",
    "                    try:\n",
    "                        Chemical_Name.append(j[0])\n",
    "                    except IndexError:\n",
    "                        Chemical_Name.append(' ')\n",
    "                    try:\n",
    "                        CAS_Number.append(j[1])\n",
    "                    except IndexError:\n",
    "                        CAS_Number.append(' ')\n",
    "                    try :\n",
    "                        Percentage.append(j[2])\n",
    "                    except IndexError:\n",
    "                        Percentage.append(' ')\n",
    "                    Files.append(file)\n",
    "\n",
    "                elif len(j) == 4:\n",
    "                    try: \n",
    "                        Product_Name.append(name)\n",
    "                    except:\n",
    "                        Product_Name.append(' ')\n",
    "                    try:\n",
    "                        Chemical_Name.append(j[0])\n",
    "                    except IndexError:                                \n",
    "                        Chemical_Name.append(' ')\n",
    "                    try:\n",
    "                        CAS_Number.append(j[2])\n",
    "                    except IndexError:\n",
    "                        CAS_Number.append(' ')\n",
    "                    try :\n",
    "                        Percentage.append(j[3])\n",
    "                    except IndexError:\n",
    "                        Percentage.append(' ')\n",
    "                    Files.append(file)\n",
    "    name = 'None'"
   ]
  },
  {
   "cell_type": "code",
   "execution_count": null,
   "metadata": {},
   "outputs": [],
   "source": [
    "#create dataframe to display scraped data in the lists\n",
    "Test_Run = pd.DataFrame({'Product_Name': Product_Name, 'Chemical_Name': Chemical_Name, 'CAS_Number': CAS_Number, 'Percentage': Percentage, \"File\": Files})\n",
    "Test_Run = Test_Run.drop_duplicates(keep = 'first')\n",
    "Test_Run"
   ]
  },
  {
   "cell_type": "markdown",
   "metadata": {},
   "source": [
    "## Filter through dataframe to remove extraneous information (e.g. remove words and sentences that were accidentally included in the dataframe)"
   ]
  },
  {
   "cell_type": "code",
   "execution_count": 68,
   "metadata": {
    "collapsed": true
   },
   "outputs": [],
   "source": [
    "Test2 = Test_Run[Test_Run['CAS_Number'].map(lambda x: 'issue date' not in x.split(':'))]"
   ]
  },
  {
   "cell_type": "code",
   "execution_count": null,
   "metadata": {},
   "outputs": [],
   "source": [
    "Test2['CAS_Number'].value_counts()"
   ]
  },
  {
   "cell_type": "code",
   "execution_count": 70,
   "metadata": {
    "collapsed": true
   },
   "outputs": [],
   "source": [
    "Test3 = Test2[Test2['CAS_Number'].map(lambda x: x != 'this product has been evaluated using criteria specified in 29 cfr 1910.1200')]"
   ]
  },
  {
   "cell_type": "code",
   "execution_count": null,
   "metadata": {},
   "outputs": [],
   "source": [
    "Test3[Test3['CAS_Number'].map(lambda x: '<' in x)]"
   ]
  },
  {
   "cell_type": "code",
   "execution_count": null,
   "metadata": {},
   "outputs": [],
   "source": [
    "Test2[Test2['File'] == 'hp_2904.txt']"
   ]
  },
  {
   "cell_type": "code",
   "execution_count": 84,
   "metadata": {
    "collapsed": true
   },
   "outputs": [],
   "source": [
    "Test4 = Test3[Test3['Product_Name'] != 'None']"
   ]
  },
  {
   "cell_type": "code",
   "execution_count": 89,
   "metadata": {
    "collapsed": true
   },
   "outputs": [],
   "source": [
    "stopwords = ['%', 'concentration range', 'cas number']"
   ]
  },
  {
   "cell_type": "code",
   "execution_count": 102,
   "metadata": {},
   "outputs": [],
   "source": [
    "Test5 = Test4[Test4['CAS_Number'].map(lambda x: x not in stopwords)]"
   ]
  },
  {
   "cell_type": "code",
   "execution_count": 103,
   "metadata": {
    "collapsed": true
   },
   "outputs": [],
   "source": [
    "Test6 = Test5[Test5['CAS_Number'].map(lambda x: '%' not in x)]"
   ]
  },
  {
   "cell_type": "code",
   "execution_count": 105,
   "metadata": {},
   "outputs": [],
   "source": [
    "Test7 = Test6[Test6['CAS_Number'].map(lambda x: x != 'similar chemical')]"
   ]
  },
  {
   "cell_type": "code",
   "execution_count": 115,
   "metadata": {
    "collapsed": true
   },
   "outputs": [],
   "source": [
    "#create function to export dataframe to excel file\n",
    "def checkfile(file_name):\n",
    "    \"\"\"\n",
    "    Usage:\n",
    "    ------\n",
    "    checkfile(file_name)\n",
    "\n",
    "    Description:\n",
    "    ------------\n",
    "    Function to check if a file name exists in the current working\n",
    "    directory and rename the new file, rather than overwrite the old file\n",
    "    with new data.\n",
    "\n",
    "    Parameters:\n",
    "    -----------\n",
    "    file_name : string, database name tag in .my.cnf file (default=None)\n",
    "    out       : string, a unique file name based on the provided file_name;\n",
    "                uniqueness is insured by incrementing a number appended to the\n",
    "                file by 1\n",
    "    \"\"\"\n",
    "    cwd = os.getcwd()\n",
    "    cwf = os.path.join(cwd,file_name)\n",
    "    if not os.path.exists(cwf):\n",
    "        return cwf\n",
    "    root, ext = os.path.splitext(os.path.expanduser(cwf))\n",
    "    dir = os.path.dirname(root)\n",
    "    fname = os.path.basename(root)\n",
    "    candidate = fname+ext\n",
    "    index = 1\n",
    "    ls = set(os.listdir(dir))\n",
    "    while candidate in ls:\n",
    "        candidate = \"{}_{}{}\".format(fname,index,ext)\n",
    "        index += 1\n",
    "    return os.path.join(dir,candidate)\n",
    "\n",
    "def to_excel(df,xlfile,sheet_name='Sheet 1',cas_col='casrn',index=False,filecheck=False,encoding=None):\n",
    "    \"\"\"\n",
    "    Usage:\n",
    "    ------\n",
    "    to_excel(df,xlfile)\n",
    "\n",
    "    Description:\n",
    "    ------------\n",
    "    Writes Pandas dataframe to MS Excel file. This differs from Pandas' own\n",
    "    to_excel function in that it will find the 'casrn' column and write it to\n",
    "    the file as a string instead of a number, thus preventing some CASRNs to be\n",
    "    autoformatted to strings.\n",
    "\n",
    "    Parameters:\n",
    "    -----------\n",
    "    df              pandas.DataFrame, object to write to an MS Excel file\n",
    "    xlfile          string, name of MS Excel file to generate\n",
    "    sheet_name      string, name of MS Excel sheet the dataframe will be written to\n",
    "    cas_col         string, name of the column in the dataframe containing CASRNs (default:'casrn')\n",
    "    index           boolean, default True write row names (index)\n",
    "    checkfile       check if a file by the same name already exists in the path\n",
    "\n",
    "    \"\"\"\n",
    "    alphabet = \"abcdefghijklmnopqrstuvwxyz\"\n",
    "    if cas_col not in df.columns.tolist():\n",
    "        print(\"Error! 'casrn' column not in dataframe. Use Pandas' to_excel function.\")\n",
    "        return\n",
    "\n",
    "    cas_col = alphabet[df.columns.get_loc(cas_col)].upper()\n",
    "    if filecheck:\n",
    "        writer = pd.ExcelWriter(checkfile(xlfile),engine=\"xlsxwriter\")\n",
    "    else:\n",
    "        writer = pd.ExcelWriter(xlfile,engine=\"xlsxwriter\")\n",
    "    df.to_excel(writer,sheet_name=sheet_name,index=index,encoding=encoding)\n",
    "    workbook = writer.book\n",
    "    worksheet = writer.sheets[sheet_name]\n",
    "    format1 = workbook.add_format({\"bold\":False,\"font_color\":\"black\"})\n",
    "    worksheet.set_column(cas_col+':'+cas_col,12,format1)\n",
    "    writer.save()\n",
    "    return"
   ]
  },
  {
   "cell_type": "code",
   "execution_count": 116,
   "metadata": {
    "collapsed": true
   },
   "outputs": [],
   "source": [
    "to_excel(Test7, 'HP_Scraped_Data_Sans_Batteries.xlsx', cas_col = \"CAS_Number\")"
   ]
  },
  {
   "cell_type": "code",
   "execution_count": null,
   "metadata": {
    "collapsed": true
   },
   "outputs": [],
   "source": []
  }
 ],
 "metadata": {
  "kernelspec": {
   "display_name": "Python 3",
   "language": "python",
   "name": "python3"
  },
  "language_info": {
   "codemirror_mode": {
    "name": "ipython",
    "version": 3
   },
   "file_extension": ".py",
   "mimetype": "text/x-python",
   "name": "python",
   "nbconvert_exporter": "python",
   "pygments_lexer": "ipython3",
   "version": "3.6.1"
  }
 },
 "nbformat": 4,
 "nbformat_minor": 2
}
